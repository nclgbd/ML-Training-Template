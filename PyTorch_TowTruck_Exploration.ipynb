{
 "cells": [
  {
   "cell_type": "markdown",
   "source": [
    "# PyTorch Tow Truck Model Exploration"
   ],
   "metadata": {}
  },
  {
   "cell_type": "code",
   "execution_count": 1,
   "source": [
    "import numpy as np\r\n",
    "import matplotlib.pyplot as plt\r\n",
    "import torch\r\n",
    "import os\r\n",
    "import seaborn as sns\r\n",
    "import json\r\n",
    "\r\n",
    "from datetime import datetime\r\n",
    "from PIL import Image\r\n",
    "from statistics import mean\r\n",
    "from torch import nn, optim\r\n",
    "from torchvision import datasets, transforms, models\r\n",
    "from torch.utils.data import DataLoader, Dataset\r\n",
    "from tqdm import tqdm"
   ],
   "outputs": [],
   "metadata": {}
  },
  {
   "cell_type": "code",
   "execution_count": 2,
   "source": [
    "# Homemade Utility Classes\r\n",
    "from pytorch_vision_utils.Utilities import clear_dirs, time_to_predict, DataVisualizationUtilities, TrainingUtilities"
   ],
   "outputs": [],
   "metadata": {}
  },
  {
   "cell_type": "code",
   "execution_count": 3,
   "source": [
    "device = torch.device(\"cuda:0\" if torch.cuda.is_available() else \"cpu\")\r\n",
    "print(\"Using: \", device)"
   ],
   "outputs": [
    {
     "output_type": "stream",
     "name": "stdout",
     "text": [
      "Using:  cuda:0\n"
     ]
    }
   ],
   "metadata": {
    "tags": []
   }
  },
  {
   "cell_type": "code",
   "execution_count": 4,
   "source": [
    "# DIRECTORY NAMES\r\n",
    "cwd = os.getcwd()\r\n",
    "DATA_DIR = str(os.path.join(cwd, \"data\"))\r\n",
    "TEST_DIR = str(os.path.join(cwd, \"test_data\"))\r\n",
    "MODEL_DIR = str(os.path.join(cwd, \"saved_models\"))\r\n",
    "MEDIA_DIR = str(os.path.join(cwd, 'media'))\r\n",
    "INC_DIR = str(os.path.join(cwd, 'incorrect_images'))\r\n",
    "MODEL_NAME = \"mobilenetv2\"\r\n",
    "\r\n",
    "train_utils = TrainingUtilities(data_dir=DATA_DIR, model_dir=MODEL_DIR, model_name=MODEL_NAME, mode=\"train\")\r\n",
    "dataviz_utils = DataVisualizationUtilities()\r\n",
    "clear_dirs(INC_DIR)"
   ],
   "outputs": [],
   "metadata": {}
  },
  {
   "cell_type": "code",
   "execution_count": 5,
   "source": [
    "print(MODEL_DIR)\r\n",
    "print(DATA_DIR)\r\n",
    "print(MEDIA_DIR)"
   ],
   "outputs": [
    {
     "output_type": "stream",
     "name": "stdout",
     "text": [
      "c:\\Users\\nicol\\Documents\\Development\\Back-end-Symbol-Detection\\TowAwayDetection\\saved_models\n",
      "c:\\Users\\nicol\\Documents\\Development\\Back-end-Symbol-Detection\\TowAwayDetection\\data\n",
      "c:\\Users\\nicol\\Documents\\Development\\Back-end-Symbol-Detection\\TowAwayDetection\\media\n"
     ]
    }
   ],
   "metadata": {}
  },
  {
   "cell_type": "code",
   "execution_count": 6,
   "source": [
    "train_utils.set_model_parameters(model_name=MODEL_NAME, mode=\"train\")\r\n",
    "dataviz_utils.display_dataset(train_utils)"
   ],
   "outputs": [
    {
     "output_type": "stream",
     "name": "stdout",
     "text": [
      "{'BATCH_SIZE': 16, 'ETA': 0.0001, 'PATIENCE': 7, 'CROP_SIZE': 224, 'DEGREES': 20, 'HUE': 0.3, 'BRIGHTNESS': 0.2, 'SATURATION': 0.2, 'CONTRAST': 0.2, 'MONITOR': 'val_loss', 'MIN_DELTA': 0, 'LR_PATIENCE': 5, 'FACTOR': 0.5, 'INPUT_SIZE': [224, 224], 'MEAN': [0.485, 0.456, 0.406], 'STD': [0.229, 0.224, 0.225]}\n"
     ]
    }
   ],
   "metadata": {
    "tags": []
   }
  },
  {
   "cell_type": "markdown",
   "source": [
    "# Training Section\n",
    "## MobileNet V2 Results"
   ],
   "metadata": {}
  },
  {
   "cell_type": "code",
   "execution_count": null,
   "source": [
    "train_utils.train(model_name=\"mobilenetv2\", model_path=MODEL_DIR, inc_path=INC_DIR)"
   ],
   "outputs": [],
   "metadata": {}
  },
  {
   "cell_type": "markdown",
   "source": [
    "## Xception Results"
   ],
   "metadata": {}
  },
  {
   "cell_type": "code",
   "execution_count": null,
   "source": [
    "train_utils.train(model_name=\"xception\", model_path=MODEL_DIR, inc_path=INC_DIR)"
   ],
   "outputs": [],
   "metadata": {}
  }
 ],
 "metadata": {
  "interpreter": {
   "hash": "e1036244992a60a7afff9605a0006cd614eb83d5d7c31dbe28733dcfab41403f"
  },
  "kernelspec": {
   "name": "python3",
   "display_name": "Python 3.6.12 64-bit ('torch_base': conda)"
  },
  "language_info": {
   "codemirror_mode": {
    "name": "ipython",
    "version": 3
   },
   "file_extension": ".py",
   "mimetype": "text/x-python",
   "name": "python",
   "nbconvert_exporter": "python",
   "pygments_lexer": "ipython3",
   "version": "3.6.12"
  },
  "orig_nbformat": 2
 },
 "nbformat": 4,
 "nbformat_minor": 2
}