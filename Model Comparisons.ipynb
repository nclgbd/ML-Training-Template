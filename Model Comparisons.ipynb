{
 "cells": [
  {
   "cell_type": "markdown",
   "source": [
    "# Model Comparison Scripts"
   ],
   "metadata": {}
  },
  {
   "cell_type": "code",
   "execution_count": null,
   "source": [
    "import numpy as np\r\n",
    "import matplotlib.pyplot as plt\r\n",
    "import torch\r\n",
    "import os\r\n",
    "import seaborn as sns\r\n",
    "import json\r\n",
    "\r\n",
    "from datetime import datetime\r\n",
    "from PIL import Image\r\n",
    "from statistics import mean\r\n",
    "from torch import nn, optim\r\n",
    "from torchvision import datasets, transforms, models\r\n",
    "from torch.utils.data import DataLoader, Dataset\r\n",
    "from tqdm import tqdm"
   ],
   "outputs": [],
   "metadata": {}
  },
  {
   "cell_type": "code",
   "execution_count": null,
   "source": [
    "# Homemade Utility Classes\r\n",
    "from pytorch_vision_utils.Utilities import clear_dirs, time_to_predict, DataVisualizationUtilities, TrainingUtilities"
   ],
   "outputs": [],
   "metadata": {}
  },
  {
   "cell_type": "code",
   "execution_count": null,
   "source": [
    "device = torch.device(\"cuda:0\" if torch.cuda.is_available() else \"cpu\")\r\n",
    "print(\"Using: \", device)"
   ],
   "outputs": [],
   "metadata": {}
  },
  {
   "cell_type": "code",
   "execution_count": null,
   "source": [
    "# DIRECTORY NAMES\r\n",
    "cwd = os.getcwd()\r\n",
    "TEST_DIR = str(os.path.join(cwd, \"test_data\"))\r\n",
    "MODEL_DIR = str(os.path.join(cwd, \"saved_models\"))\r\n",
    "MEDIA_DIR = str(os.path.join(cwd, 'media'))\r\n",
    "INC_DIR = str(os.path.join(MEDIA_DIR, 'incorrect_images'))\r\n",
    "MODEL_NAME1 = \"model_name1\"\r\n",
    "MODEL_NAME2 = \"model_name2\"\r\n",
    "CONSTANT = 1.5"
   ],
   "outputs": [],
   "metadata": {}
  },
  {
   "cell_type": "markdown",
   "source": [
    "# Create models for Comparison"
   ],
   "metadata": {}
  },
  {
   "cell_type": "code",
   "execution_count": null,
   "source": [
    "%run -m pytorch_vision_utils.train -- --model_name \"${MODEL_NAME1}\" --parameters_path \"parameters.json\" --debug \"True\""
   ],
   "outputs": [],
   "metadata": {}
  },
  {
   "cell_type": "code",
   "execution_count": null,
   "source": [
    "%run -m pytorch_vision_utils.train -- --model_name \"${MODEL_NAME2}\" --parameters_path \"parameters.json\" --debug \"True\""
   ],
   "outputs": [],
   "metadata": {}
  },
  {
   "cell_type": "code",
   "execution_count": null,
   "source": [
    "train_utils = TrainingUtilities(data_dir=TEST_DIR, model_dir=MODEL_DIR, \r\n",
    "                                model_name=MODEL_NAME1, mode=\"test\")\r\n",
    "dataviz_utils = DataVisualizationUtilities()\r\n",
    "clear_dirs(INC_DIR)"
   ],
   "outputs": [],
   "metadata": {}
  },
  {
   "cell_type": "code",
   "execution_count": null,
   "source": [
    "print(MODEL_DIR)\r\n",
    "print(TEST_DIR)\r\n",
    "print(MEDIA_DIR)"
   ],
   "outputs": [],
   "metadata": {}
  },
  {
   "cell_type": "code",
   "execution_count": null,
   "source": [
    "train_utils.load_weights(MODEL_NAME1, MODEL_DIR+\"/\"+MODEL_NAME1+\".pth\")\r\n",
    "dataviz_utils.display_dataset(train_utils)"
   ],
   "outputs": [],
   "metadata": {}
  },
  {
   "cell_type": "markdown",
   "source": [
    "## Model 1 Results"
   ],
   "metadata": {}
  },
  {
   "cell_type": "code",
   "execution_count": null,
   "source": [
    "dataviz_utils.display_metric_results(0, train_utils, img_dir=INC_DIR)"
   ],
   "outputs": [],
   "metadata": {}
  },
  {
   "cell_type": "code",
   "execution_count": null,
   "source": [
    "dataviz_utils.display_roc_curve(0, train_utils)"
   ],
   "outputs": [],
   "metadata": {}
  },
  {
   "cell_type": "code",
   "execution_count": null,
   "source": [
    "model_name1_times = time_to_predict(train_utils.model, train_utils.loader, constant=CONSTANT)"
   ],
   "outputs": [],
   "metadata": {}
  },
  {
   "cell_type": "markdown",
   "source": [
    "## Model 2 Results"
   ],
   "metadata": {}
  },
  {
   "cell_type": "code",
   "execution_count": null,
   "source": [
    "train_utils.load_weights(MODEL_NAME2, MODEL_DIR+\"/\"+MODEL_NAME2+\".pth\")\r\n",
    "dataviz_utils.display_metric_results(0, train_utils, img_dir=INC_DIR)"
   ],
   "outputs": [],
   "metadata": {}
  },
  {
   "cell_type": "code",
   "execution_count": null,
   "source": [
    "dataviz_utils.display_roc_curve(0, train_utils)"
   ],
   "outputs": [],
   "metadata": {}
  },
  {
   "cell_type": "code",
   "execution_count": null,
   "source": [
    "model_name2_times = time_to_predict(train_utils.model, train_utils.loader, constant=CONSTANT)"
   ],
   "outputs": [],
   "metadata": {}
  },
  {
   "cell_type": "markdown",
   "source": [
    "## Prediction Benchmark Graph"
   ],
   "metadata": {}
  },
  {
   "cell_type": "code",
   "execution_count": null,
   "source": [
    "dataviz_utils.display_benchmark_results(model_name1_times, model_name2_times, model_name1=MODEL_NAME1, model_name2=MODEL_NAME2, bw_adjust=3)"
   ],
   "outputs": [],
   "metadata": {}
  }
 ],
 "metadata": {
  "interpreter": {
   "hash": "e1036244992a60a7afff9605a0006cd614eb83d5d7c31dbe28733dcfab41403f"
  },
  "kernelspec": {
   "name": "python3",
   "display_name": "Python 3.6.12 64-bit ('torch_base': conda)"
  },
  "language_info": {
   "name": "python",
   "version": "3.6.12",
   "mimetype": "text/x-python",
   "codemirror_mode": {
    "name": "ipython",
    "version": 3
   },
   "pygments_lexer": "ipython3",
   "nbconvert_exporter": "python",
   "file_extension": ".py"
  },
  "orig_nbformat": 2
 },
 "nbformat": 4,
 "nbformat_minor": 2
}